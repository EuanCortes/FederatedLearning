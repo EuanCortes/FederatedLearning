{
 "cells": [
  {
   "cell_type": "code",
   "execution_count": 20,
   "metadata": {},
   "outputs": [],
   "source": [
    "import torch\n",
    "from torch import nn\n",
    "#from torchvision.datasets import CIFAR10\n",
    "#from torchvision.transforms import ToTensor\n",
    "from torch.utils.data import DataLoader, Subset\n",
    "from torch import optim\n",
    "import torch.multiprocessing as mp\n",
    "\n",
    "import numpy as np\n",
    "import matplotlib.pyplot as plt\n",
    "import time\n",
    "\n",
    "import os\n",
    "import sys\n",
    "\n",
    "############################################################\n",
    "# ------------- Import from model directory -------------- #\n",
    "############################################################\n",
    "\n",
    "current_dir = os.getcwd()                                   # current directory\n",
    "parent_dir = os.path.dirname(current_dir)                   # parent directory\n",
    "model_dir = os.path.join(parent_dir, 'model')               # model directory\n",
    "\n",
    "if model_dir not in sys.path:\n",
    "    sys.path.append(model_dir)  # add model to pythonpath\n",
    "\n",
    "from model import SmallCNN\n",
    "from dataset import load_data, split_data\n",
    "\n",
    "############################################################\n",
    "# --------------------- End imports ---------------------- #\n",
    "############################################################"
   ]
  },
  {
   "cell_type": "code",
   "execution_count": 21,
   "metadata": {},
   "outputs": [
    {
     "name": "stdout",
     "output_type": "stream",
     "text": [
      "loading data:\n",
      "  number of training samples: 40000\n",
      "  number of validation samples: 10000\n",
      "  number of test samples: 10000\n",
      "\n",
      "splitting data:\n",
      "  100 splits with 400 samples each\n",
      "\n"
     ]
    }
   ],
   "source": [
    "trainset, valset, testset = load_data()\n",
    "client_indices = split_data(trainset, num_clients=100, iid=True)"
   ]
  }
 ],
 "metadata": {
  "kernelspec": {
   "display_name": "FLenv",
   "language": "python",
   "name": "python3"
  },
  "language_info": {
   "codemirror_mode": {
    "name": "ipython",
    "version": 3
   },
   "file_extension": ".py",
   "mimetype": "text/x-python",
   "name": "python",
   "nbconvert_exporter": "python",
   "pygments_lexer": "ipython3",
   "version": "3.12.2"
  }
 },
 "nbformat": 4,
 "nbformat_minor": 2
}
