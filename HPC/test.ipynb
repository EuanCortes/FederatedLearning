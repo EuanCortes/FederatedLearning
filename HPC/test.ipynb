{
 "cells": [
  {
   "cell_type": "code",
   "execution_count": 4,
   "metadata": {},
   "outputs": [
    {
     "name": "stdout",
     "output_type": "stream",
     "text": [
      "c:\\Users\\Phill\\Documents\\School\\MSc\\3. Sem\\Federated Learning\\FederatedLearning\\HPC\n",
      "c:\\Users\\Phill\\Documents\\School\\MSc\\3. Sem\\Federated Learning\\FederatedLearning\n",
      "c:\\Users\\Phill\\Documents\\School\\MSc\\3. Sem\\Federated Learning\\FederatedLearning\\model\n"
     ]
    }
   ],
   "source": [
    "import os\n",
    "import sys\n",
    "\n",
    "#current_dir = os.path.dirname(os.path.realpath(__file__))\n",
    "current_dir = os.getcwd()\n",
    "print(current_dir)\n",
    "\n",
    "parent_dir = os.path.dirname(current_dir)\n",
    "print(parent_dir)\n",
    "\n",
    "model_dir = os.path.join(parent_dir, 'model')\n",
    "print(model_dir)\n",
    "\n",
    "if model_dir not in sys.path:\n",
    "    sys.path.append(model_dir)\n",
    "\n",
    "from model import SmallCNN"
   ]
  },
  {
   "cell_type": "code",
   "execution_count": 6,
   "metadata": {},
   "outputs": [
    {
     "name": "stdout",
     "output_type": "stream",
     "text": [
      "['c:\\\\Users\\\\Phill\\\\anaconda3\\\\envs\\\\FLenv\\\\python312.zip', 'c:\\\\Users\\\\Phill\\\\anaconda3\\\\envs\\\\FLenv\\\\DLLs', 'c:\\\\Users\\\\Phill\\\\anaconda3\\\\envs\\\\FLenv\\\\Lib', 'c:\\\\Users\\\\Phill\\\\anaconda3\\\\envs\\\\FLenv', '', 'c:\\\\Users\\\\Phill\\\\anaconda3\\\\envs\\\\FLenv\\\\Lib\\\\site-packages', 'c:\\\\Users\\\\Phill\\\\anaconda3\\\\envs\\\\FLenv\\\\Lib\\\\site-packages\\\\win32', 'c:\\\\Users\\\\Phill\\\\anaconda3\\\\envs\\\\FLenv\\\\Lib\\\\site-packages\\\\win32\\\\lib', 'c:\\\\Users\\\\Phill\\\\anaconda3\\\\envs\\\\FLenv\\\\Lib\\\\site-packages\\\\Pythonwin', 'c:\\\\Users\\\\Phill\\\\Documents\\\\School\\\\MSc\\\\3. Sem\\\\Federated Learning\\\\FederatedLearning\\\\model']\n"
     ]
    }
   ],
   "source": [
    "print(sys.path)"
   ]
  },
  {
   "cell_type": "code",
   "execution_count": null,
   "metadata": {},
   "outputs": [],
   "source": []
  }
 ],
 "metadata": {
  "kernelspec": {
   "display_name": "FLenv",
   "language": "python",
   "name": "python3"
  },
  "language_info": {
   "codemirror_mode": {
    "name": "ipython",
    "version": 3
   },
   "file_extension": ".py",
   "mimetype": "text/x-python",
   "name": "python",
   "nbconvert_exporter": "python",
   "pygments_lexer": "ipython3",
   "version": "3.12.2"
  }
 },
 "nbformat": 4,
 "nbformat_minor": 2
}
